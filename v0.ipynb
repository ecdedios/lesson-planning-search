{
 "cells": [
  {
   "cell_type": "markdown",
   "metadata": {},
   "source": [
    "# PLAN\n",
    "\n",
    "- [x] Acquisition\n",
    "    - [x] Select what list of repos to scrape.\n",
    "    - [x] Get requests from the site.\n",
    "    - [x] Save responses to variables.\n",
    "- [ ] Cleanup\n",
    "    - [ ] Prepare the data for delivery.\n",
    "- [ ] Delivery\n",
    "    - [ ] Github repo\n",
    "        - [ ] This notebook.\n",
    "        - [ ] Documentation within the notebook.\n",
    "        - [ ] README file in the repo.\n",
    "        - [ ] Python scripts if applicable.\n",
    "    - [ ] Website Demo"
   ]
  },
  {
   "cell_type": "markdown",
   "metadata": {},
   "source": [
    "# ENVIRONMENT"
   ]
  },
  {
   "cell_type": "code",
   "execution_count": 1,
   "metadata": {},
   "outputs": [],
   "source": [
    "from requests import get\n",
    "from bs4 import BeautifulSoup"
   ]
  },
  {
   "cell_type": "code",
   "execution_count": 2,
   "metadata": {},
   "outputs": [],
   "source": [
    "SEARCH_PHRASE = 'Moon Phases'"
   ]
  },
  {
   "cell_type": "markdown",
   "metadata": {},
   "source": [
    "## TEACHERS PAY TEACHERS"
   ]
  },
  {
   "cell_type": "code",
   "execution_count": 3,
   "metadata": {},
   "outputs": [
    {
     "data": {
      "text/plain": [
       "'https://www.teacherspayteachers.com/Browse/Search:Moon%20Phases/Order:Relevance/Grade-Level/Second/Price-Range/Free'"
      ]
     },
     "execution_count": 3,
     "metadata": {},
     "output_type": "execute_result"
    }
   ],
   "source": [
    "tpt_url = \"https://www.teacherspayteachers.com/Browse/Search:\" + SEARCH_PHRASE.replace(\" \",\"%20\") + \"/Order:Relevance/Grade-Level/Second/Price-Range/Free\"\n",
    "tpt_url"
   ]
  },
  {
   "cell_type": "code",
   "execution_count": 1,
   "metadata": {},
   "outputs": [],
   "source": [
    "def get_tpt_results(url):\n",
    "    \"\"\"\n",
    "    This function takes a url and returns a dictionary that\n",
    "    contains the metadata of the results of the query.\n",
    "    \"\"\"\n",
    "    response = get(url)\n",
    "    soup = BeautifulSoup(response.text, 'html.parser')\n",
    "    results = []\n",
    "    for result in soup.find_all('div', class_='SearchProductRowLayout'):\n",
    "        d = dict()\n",
    "        d['result_title'] = result.find('div', class_='ProductRowTitleBespoke').text\n",
    "        d['result_href'] = 'https://www.teacherspayteachers.com'+result.a['href']\n",
    "        d['result_desc'] = result.find('div', class_='TruncatedTextBox').text.strip().encode(\"utf-8\")\n",
    "        results.append(d)\n",
    "    return results"
   ]
  },
  {
   "cell_type": "code",
   "execution_count": 2,
   "metadata": {
    "scrolled": false
   },
   "outputs": [
    {
     "ename": "NameError",
     "evalue": "name 'tpt_url' is not defined",
     "output_type": "error",
     "traceback": [
      "\u001b[0;31m---------------------------------------------------------------------------\u001b[0m",
      "\u001b[0;31mNameError\u001b[0m                                 Traceback (most recent call last)",
      "\u001b[0;32m<ipython-input-2-64818c67042f>\u001b[0m in \u001b[0;36m<module>\u001b[0;34m\u001b[0m\n\u001b[0;32m----> 1\u001b[0;31m \u001b[0mtpt\u001b[0m \u001b[0;34m=\u001b[0m \u001b[0mget_tpt_results\u001b[0m\u001b[0;34m(\u001b[0m\u001b[0mtpt_url\u001b[0m\u001b[0;34m)\u001b[0m\u001b[0;34m\u001b[0m\u001b[0;34m\u001b[0m\u001b[0m\n\u001b[0m",
      "\u001b[0;31mNameError\u001b[0m: name 'tpt_url' is not defined"
     ]
    }
   ],
   "source": [
    "tpt = get_tpt_results(tpt_url)"
   ]
  },
  {
   "cell_type": "markdown",
   "metadata": {},
   "source": [
    "## EDUCATION.COM"
   ]
  },
  {
   "cell_type": "code",
   "execution_count": 6,
   "metadata": {},
   "outputs": [
    {
     "data": {
      "text/plain": [
       "'https://www.education.com/resources/second-grade/Moon%20Phases'"
      ]
     },
     "execution_count": 6,
     "metadata": {},
     "output_type": "execute_result"
    }
   ],
   "source": [
    "ec_url = \"https://www.education.com/resources/second-grade/\" + SEARCH_PHRASE.replace(\" \",\"%20\")\n",
    "ec_url"
   ]
  },
  {
   "cell_type": "code",
   "execution_count": 7,
   "metadata": {},
   "outputs": [],
   "source": [
    "def get_ec_results(url):\n",
    "    \"\"\"\n",
    "    This function takes a url and returns a dictionary that\n",
    "    contains the metadata of the results of the query.\n",
    "    \"\"\"\n",
    "    response = get(url)\n",
    "    soup = BeautifulSoup(response.text, 'html.parser')\n",
    "    results = []\n",
    "    for result in soup.find_all('div', class_='result'):\n",
    "        d = dict()\n",
    "        d['result_title'] = result.find('div', class_='title').text\n",
    "        d['result_href'] = 'https://www.education.com'+result.a['href']\n",
    "        d['result_desc'] = result.find('div', class_='description').text.strip().encode(\"utf-8\")\n",
    "        results.append(d)\n",
    "    return results"
   ]
  },
  {
   "cell_type": "code",
   "execution_count": 8,
   "metadata": {},
   "outputs": [],
   "source": [
    "ec = get_ec_results(ec_url)"
   ]
  },
  {
   "cell_type": "markdown",
   "metadata": {},
   "source": [
    "## CLEAN-UP"
   ]
  },
  {
   "cell_type": "markdown",
   "metadata": {},
   "source": [
    "_Let's clean up the encoding later..._"
   ]
  },
  {
   "cell_type": "code",
   "execution_count": 9,
   "metadata": {},
   "outputs": [],
   "source": [
    "# def clean_text(text):\n",
    "#     cleaned = original.replace('\\n',' ')\n",
    "#     cleaned = cleaned.replace('\\t',' ')\n",
    "#     return cleaned\n",
    "\n",
    "# clean_text(tpt_text)"
   ]
  },
  {
   "cell_type": "code",
   "execution_count": 10,
   "metadata": {},
   "outputs": [
    {
     "name": "stdout",
     "output_type": "stream",
     "text": [
      "Moon Phases Tips and Activities\n",
      "b'This quality resource is free my friends!  Please rate it for me! All I ask is that you pin it like crazy and rate me! If you would like to get updates for when I give more freebies away, become a follower!\\n\\n Inside you will find 2 smartboard activities, a cute tips sheet for remembering the moon ph'\n",
      "https://www.teacherspayteachers.com/Product/Moon-Phases-Tips-and-Activities\n",
      "\n",
      "\n",
      "Moon Phases Assessment\n",
      "b'Assess your students with this Moon Phases Matching worksheet. \\n\\nNote: This was made was made in simple terms. Before students knew the difference between Waxing and Waning.'\n",
      "https://www.teacherspayteachers.com/Product/Moon-Phases-Assessment-2131584\n",
      "\n",
      "\n",
      "Moon Phases ~ Las fases de la luna\n",
      "b'Add to your science lesson with this moon phases labeling activity can be used to help teach students about the moon phases or as an assessment.  The product includes the one page worksheet to label and one page of labels, both available in English and Spanish.\\n\\nNGSS aligned 1-ESS1-1. Use observatio'\n",
      "https://www.teacherspayteachers.com/Product/Moon-Phases-Las-fases-de-la-luna-3032912\n",
      "\n",
      "\n",
      "Moon Phases Matching Sheet\n",
      "b'Students draw a line from the name of the moon phase to the correct picture. \\n\\nPlease leave a comment and/or a rating! I would love your feedback!'\n",
      "https://www.teacherspayteachers.com/Product/Moon-Phases-Matching-Sheet-1180626\n",
      "\n",
      "\n",
      "Simple Moon Phases I Have...Who Has\n",
      "b'By using these Moon Phases cards, students are able to visualize and properly order the 8 phases of the Moon. Students will enjoy these cards as a small group or with the aid of guided instruction. Perfect for Moon lesson for primary grades and in coordination with Next Generation Science for lower'\n",
      "https://www.teacherspayteachers.com/Product/Simple-Moon-Phases-I-HaveWho-Has-1466531\n",
      "\n",
      "\n",
      "Blank Moon Phases Calendar Freebie\n",
      "b'Watch the moon change each night and color in the shape!\\n\\nThis calendar offers up to 35 days to record the moon phases. Draw in the shape of the current moon and shade the rest.  Enjoy watching and recording the patterning of the moon!\\n\\nBlack & white plus color versions included!\\n\\n\\nRemember when'\n",
      "https://www.teacherspayteachers.com/Product/Blank-Moon-Phases-Calendar-Freebie\n",
      "\n",
      "\n",
      "Moon Phases Worksheet FREEBIE\n",
      "b'Are you studying the moon cycle in your classroom? This freebie is a great worksheet to have your students complete with the 8 different moon cycle phases! You may also be interested in:\\xe2\\x9d\\xa4\\xef\\xb8\\x8fForce and Motion Science Experiments and Activities {Grades 1, 2, & 3}\\xe2\\x9d\\xa4\\xef\\xb8\\x8fPush or Pull Sort Worksheet Activity a'\n",
      "https://www.teacherspayteachers.com/Product/Moon-Phases-Worksheet-FREEBIE-4306142\n",
      "\n",
      "\n",
      "Moon Phases Activities FREE\n",
      "b'This Cookie Moon Phase activity uses Oreo Cookies to show the various phases of the moon. It is hands on and interactive and will be a Science activity that your students will remember. This Cookie Moon Phase activity is included in our FULL MOON UNIT. If your interested in the FULL Moon Unit, it th'\n",
      "https://www.teacherspayteachers.com/Product/Cookie-Moon-Phases-Activity-4360007\n",
      "\n",
      "\n",
      "Moon Phases Matching Cards\n",
      "b'Very simple matching game with one card having the name of the phase and the other having a picture.  Very basic cards.\\n\\nNew Moon\\nCrescent Moon\\nHalf Moon\\nGibbous\\nFull Moon'\n",
      "https://www.teacherspayteachers.com/Product/Moon-Phases-Matching-Cards\n",
      "\n",
      "\n",
      "The Moon Phases\n",
      "b'The Moon is a fascinting topic for children to explore.  I have provided moon phase task cards, which can be used as a matching game, a sequencing game or assessment.  Also included is a calendar that can be used as a homework assignemt to track the phases at home.  Then, I have provided a worksheet'\n",
      "https://www.teacherspayteachers.com/Product/The-Moon-Phases\n",
      "\n",
      "\n",
      "Moon Phases\n",
      "b'Interactive activity to teach phases of the moon. Students cut, attach, and color to learn the phases of the moon.'\n",
      "https://www.teacherspayteachers.com/Product/Moon-Phases-1531363\n",
      "\n",
      "\n",
      "Moon Phase Collection Sheet Monthly Grid FREEBIE\n",
      "b\"I'm putting this freebie out there for anyone who is in need of a quick phases of the moon homework sheet. Our students are asked to look up at the night sky every night for one month and record what they see. The object is to see change over time. This leads into other contents and new concepts reg\"\n",
      "https://www.teacherspayteachers.com/Product/Moon-Phase-Collection-Sheet-Monthly-Grid-FREEBIE\n",
      "\n",
      "\n",
      "Phases of the Moon Foldable {Moon Phases}\n",
      "b'Are you looking for a nice and simple foldable to use along with your lesson on moon phases? \\n\\nThis product gives you just that, in three different formats! All three formats include pictures and names of the moon phases. No other information is given, leaving plenty of room for you to add your own'\n",
      "https://www.teacherspayteachers.com/Product/Phases-of-the-Moon-Foldable-Moon-Phases--3258656\n",
      "\n",
      "\n",
      "Moon Phases\n",
      "b'This sheet is to help teach the moon phases. The darker circles are the four circles that I used oreos to manipulate to represent the phases of the moon. The other circles are where students just shaded in the correct phase of the moon. This is a great hands on activity to help students learn more a'\n",
      "https://www.teacherspayteachers.com/Product/Moon-Phases-1744036\n",
      "\n",
      "\n",
      "Moon Phase November Calendar 2015\n",
      "b'Trying to find the time to teach science?  This moon phase calendar can be completed at home & can be easily instructed in a few minutes.  It not only covers the phases of the moon but also includes precipitation and cloud coverage standards.  Looking to edit the calendar?  Hop on over to my sto'\n",
      "https://www.teacherspayteachers.com/Product/Moon-Phase-November-Calendar-2015-1835097\n",
      "\n",
      "\n",
      "Moon phases for daily calendar time\n",
      "b'This notebook file offers visuals of the moon phases.  Each day students during \"Calendar time\" can use the links to determine what the moon will look like as well as the learn what time is best to see the moon for that particular day.  Simply move the day of the week to match the moon phase.  This'\n",
      "https://www.teacherspayteachers.com/Product/Moon-phases-for-daily-calendar-time\n",
      "\n",
      "\n",
      "Moon Phases Differentiated PebbleGo Cloze Paragraph Activity\n",
      "b'The sheets are differentiated to three different levels. The first sheet has a B in the bottom right-hand corner for below grade-level; the second sheet has an O in the bottom right-hand corner for on grade-level; The third  sheet had an A in the bottom right-hand corner for above grade-level. \\n\\nThe'\n",
      "https://www.teacherspayteachers.com/Product/Moon-Phases-PebbleGo-Cloze-Paragraph-Activity-1575384\n",
      "\n",
      "\n",
      "Oreo Cookie Moon Phases\n",
      "b'Using Oreo Cookies, students will learn the phases of the Moon! An assessment is included, as well as information for prerequisite knowledge and an extension activity. (The extension activity can be used as an assessment for older grades as it involves a flashlight and small ball.) There are two dif'\n",
      "https://www.teacherspayteachers.com/Product/Oreo-Cookie-Moon-Phases-1253762\n",
      "\n",
      "\n",
      "Moon Phases Lesson Plan\n",
      "b'Waxing Phases of the Moon Lesson Plan. \\nThis is used for the standard: ESS1.A: The Universe and its Stars \\xe2\\x80\\x93 Patterns of the motion of the sun, moon, and stars in the sky can be observed, described, and predicted. (1-ESS1-1)\\n\\nThis lesson plan includes a guided activity and an individual activity.'\n",
      "https://www.teacherspayteachers.com/Product/Moon-Phases-Lesson-Plan-3402784\n",
      "\n",
      "\n",
      "Moon Phases\n",
      "b'This printable is a fun hands on way to teach the phases of the moon. Can be used with any space/astronomy unit. \\n\\nI would love it if you would rate and follow my store. I hope your enjoy this fun printable. Do not hesitate to contact me with any questions or concerns.'\n",
      "https://www.teacherspayteachers.com/Product/Moon-Phases-2419118\n",
      "\n",
      "\n",
      "Moon Phases Free\n",
      "b'Moon Phases Freebie {printable}\\n\\nUse this freebie during your Moon Phases unit!\\n\\n\\n\\n\\xe2\\x99\\xa5\\xe2\\x99\\xa5\\xe2\\x99\\xa5\\xe2\\x99\\xa5\\xe2\\x99\\xa5\\xe2\\x99\\xa5\\xe2\\x99\\xa5\\xe2\\x99\\xa5\\xe2\\x99\\xa5\\xe2\\x99\\xa5\\xe2\\x99\\xa5\\xe2\\x99\\xa5\\xe2\\x99\\xa5\\xe2\\x99\\xa5\\xe2\\x99\\xa5\\xe2\\x99\\xa5\\xe2\\x99\\xa5\\xe2\\x99\\xa5\\xe2\\x99\\xa5\\xe2\\x99\\xa5\\xe2\\x99\\xa5\\xe2\\x99\\xa5\\xe2\\x99\\xa5\\xe2\\x99\\xa5\\xe2\\x99\\xa5\\xe2\\x99\\xa5\\xe2\\x99\\xa5\\xe2\\x99\\xa5\\xe2\\x99\\xa5\\xe2\\x99\\xa5\\xe2\\x99\\xa5\\xe2\\x99\\xa5\\xe2\\x99\\xa5\\xe2\\x99\\xa5\\xe2\\x99\\xa5\\xe2\\x99\\xa5\\xe2\\x99\\xa5\\xe2\\x99\\xa5\\xe2\\x99\\xa5\\xe2\\x99\\xa5\\xe2\\x99\\xa5\\xe2\\x99\\xa5\\xe2\\x99\\xa5\\xe2\\x99\\xa5\\xe2\\x99\\xa5\\xe2\\x99\\xa5\\xe2\\x99\\xa5\\xe2\\x99\\xa5\\xe2\\x99\\xa5\\xe2\\x99\\xa5\\xe2\\x99\\xa5\\xe2\\x99\\xa5\\xe2\\x99\\xa5\\xe2\\x99\\xa5\\xe2\\x99\\xa5\\xe2\\x99\\xa5\\xe2\\x99\\xa5\\xe2\\x99\\xa5\\xe2\\x99\\xa5\\xe2\\x99\\xa5\\xe2\\x99\\xa5\\xe2\\x99\\xa5\\xe2\\x99\\xa5\\xe2\\x99\\xa5\\xe2\\x99\\xa5\\xe2\\x99\\xa5\\xe2\\x99\\xa5\\xe2\\x99\\xa5\\xe2\\x99\\xa5\\xe2\\x99\\xa5\\xe2\\x99\\xa5\\xe2\\x99\\xa5\\xe2\\x99\\xa5\\xe2\\x99\\xa5\\xe2\\x99\\xa5\\xe2\\x99\\xa5\\xe2\\x99\\xa5\\nLooking for JANUARY resources?\\n\\n Snowman Packet\\n Chinese New Year Packet\\n 100th Day of School Packet\\nMartin Luther King Jr. Packet\\nPenguin'\n",
      "https://www.teacherspayteachers.com/Product/Moon-Phases-Free-2967246\n",
      "\n",
      "\n",
      "Moon Phases Nomenclature cards\n",
      "b'Simple nomenclature cards that can be used to teach moon vocabulary  and to show the order of the phases of the moon.'\n",
      "https://www.teacherspayteachers.com/Product/Moon-Phases-Nomenclature-cards-2692243\n",
      "\n",
      "\n",
      "Moon Phases Worksheet\n",
      "b'Students can use this product to fill in moon phases and write one fact about each phase. Also there is a quick moon phase fact sheet.'\n",
      "https://www.teacherspayteachers.com/Product/Moon-Phases-Worksheet-4414646\n",
      "\n",
      "\n",
      "Moon Phases Journal Entry\n",
      "b\"Use this moon journal entry form with a real time moon phase observation online.  Because we can't always observe the moon during school hours, this is a great way to record the moon changing day-by-day.  Students can't wait to observe and record the moon every day with their moon journal.  Simply p\"\n",
      "https://www.teacherspayteachers.com/Product/Moon-Phases-Journal-Entry-4316827\n",
      "\n",
      "\n"
     ]
    }
   ],
   "source": [
    "for result in tpt:\n",
    "    print(result['result_title'])\n",
    "    print(result['result_desc'])\n",
    "    print(result['result_href'])\n",
    "    print('\\n')"
   ]
  },
  {
   "cell_type": "code",
   "execution_count": 11,
   "metadata": {},
   "outputs": [
    {
     "name": "stdout",
     "output_type": "stream",
     "text": [
      "\n",
      "Chart the Phases of the Moon with Marshmallows\n",
      "\n",
      "b\"Help your second grader observe the phases of the moon, and then let the fun loose: he'll get to chart his observations with marshmallows!\"\n",
      "https://www.education.com/activity/article/chart-phases-moon-marshmallows/\n",
      "\n",
      "\n",
      "\n",
      "Moon Coloring Page\n",
      "\n",
      "b'Aspiring astronomers, get ready for a stellar coloring page all about the moon! Your child can read some fun facts as he colors.'\n",
      "https://www.education.com/worksheet/article/moon-coloring-page/\n",
      "\n",
      "\n",
      "\n",
      "Typing Words with Capital Letters: Moons and Planets\n",
      "\n",
      "b'Type to the moon and back with CuzCuz as he reaches for the heavens.'\n",
      "https://www.education.com/game/planets-moons/\n",
      "\n",
      "\n",
      "\n",
      "The King and the Moon\n",
      "\n",
      "b'For a leisurely geometry lesson, let your kid relax and read this charming storybook.'\n",
      "https://www.education.com/game/king-and-moon-math-story/\n",
      "\n",
      "\n",
      "\n",
      "Color the Whistling Werewolf\n",
      "\n",
      "b'Most werewolves howl at the full moon, but some werewolves, like this hip fellow, prefer to whistle.'\n",
      "https://www.education.com/worksheet/article/color-whistling-werewolf/\n",
      "\n",
      "\n",
      "\n",
      "Werewolf Mask\n",
      "\n",
      "b'This werewolf mask will transform your child\\xe2\\x80\\x94no full moon required. Make this werewolf mask for an easy costume for Halloween or anytime.'\n",
      "https://www.education.com/worksheet/article/werewolf-mask/\n",
      "\n",
      "\n",
      "\n",
      "Fish Bowl Word Families\n",
      "\n",
      "b'With some help from Goodnight Moon by Margaret Wise Brown and fish-themed templates, students will be able to learn about rhyming while having fun making pretend fishbowls.'\n",
      "https://www.education.com/lesson-plan/fish-bowl-word-families/\n",
      "\n",
      "\n",
      "\n",
      "Moonlight Magic\n",
      "\n",
      "b'...Fun Moon Facts:\\r\\n\\r\\nWhy does the moon appear to change size and shape during its different phases each month?...'\n",
      "https://www.education.com/activity/article/create-fake-moonlight/\n",
      "\n",
      "\n",
      "\n",
      "Matter Mixup: Drawing Solids, Liquids, and Gases\n",
      "\n",
      "b'...phases of matter, drawing...'\n",
      "https://www.education.com/worksheet/article/matter-mixup-drawing/\n",
      "\n",
      "\n",
      "\n",
      "Matter Mixup: What's a Solid?\n",
      "\n",
      "b'...phases of matter...'\n",
      "https://www.education.com/worksheet/article/matter-mixup-solid/\n",
      "\n",
      "\n",
      "\n",
      "Matter Mixup: What's a Gas?\n",
      "\n",
      "b'...phases of matter...'\n",
      "https://www.education.com/worksheet/article/matter-mixup-gas/\n",
      "\n",
      "\n",
      "\n",
      "Matter Mixup: What's a Liquid?\n",
      "\n",
      "b'...phases of matter...'\n",
      "https://www.education.com/worksheet/article/matter-mixup-liquid/\n",
      "\n",
      "\n",
      "\n",
      "Mosque Pictures \n",
      "\n",
      "b\"...Suggest that she include a moon\\xe2\\x80\\x94the crescent moon is an important symbol of Ramadan, which starts with the sighting of the ninth month's crescent moon....\"\n",
      "https://www.education.com/activity/article/mosque-pictures/\n",
      "\n",
      "\n",
      "\n",
      "Handprint Owl Painting\n",
      "\n",
      "b'...Have\\xc2\\xa0them use the pencil\\xc2\\xa0to draw a moon\\xc2\\xa0and the\\xc2\\xa0branches of a tree.\\n\\tEncourage them to paint in the moon using watered-down white tempera paint....'\n",
      "https://www.education.com/activity/article/owl-picture/\n",
      "\n",
      "\n",
      "\n",
      "Heroes and Villains Super-Set: The Deimosian Monster\n",
      "\n",
      "b'...From Mars\\xe2\\x80\\x99 farthest moon comes a creature heretofore unknown to man\\xe2\\x80\\xa6the Deimosian Monster. Watch out \\xe2\\x80\\x93 his claws are bared!...'\n",
      "https://www.education.com/worksheet/article/heroes-villains-deimosian-monster/\n",
      "\n",
      "\n",
      "\n",
      "Neil Armstrong Coloring Page\n",
      "\n",
      "b'...nasa, neil armstrong, outer space, astronaut. moon landing, apollo 11...'\n",
      "https://www.education.com/worksheet/article/neil-armstrong-coloring-page/\n",
      "\n",
      "\n",
      "\n",
      "Solar System Coloring Page\n",
      "\n",
      "b'...As they color in the rings of Saturn and Earth\\xe2\\x80\\x99s moon, they will discover fascinating details about the structure of our solar system....'\n",
      "https://www.education.com/worksheet/article/solar-system-coloring-page/\n",
      "\n",
      "\n",
      "\n",
      "Our Solar System: Turning Around\n",
      "\n",
      "b'...Under \"Satellite\" have students write \"moon....'\n",
      "https://www.education.com/lesson-plan/turning-around/\n",
      "\n",
      "\n",
      "\n",
      "Cleansing Power: How Does Dishwashing Liquid Work?\n",
      "\n",
      "b'...Cup 3 will have obvious phases, as oil and water do not mix. Cup 4 will be cloudy, as the oil will have bound to the detergent.\\r\\n\\r\\nWhy?...'\n",
      "https://www.education.com/science-fair/article/physical-science_cleansing-power/\n",
      "\n",
      "\n",
      "\n",
      "States of Matter in a Baggie\n",
      "\n",
      "b'...phases of matter, juice science, states of matter demonstration, states of matter activity, states of matter experiment, states of matter second grade, experiments on...'\n",
      "https://www.education.com/activity/article/states_of_matter_second/\n",
      "\n",
      "\n",
      "\n",
      "Tell a Story in a Jar!\n",
      "\n",
      "b'...\\xe2\\x80\\x9d\\r\\n\\r\\n\\xe2\\x80\\x9cYesterday, I traveled to the moon.\\xe2\\x80\\x9d\\r\\n\\r\\n\\xe2\\x80\\x9cThere is a monster living in the house next door....'\n",
      "https://www.education.com/activity/article/story-jar/\n",
      "\n",
      "\n",
      "\n",
      "Reusing Your Trash\n",
      "\n",
      "b'...Every year we fill enough garbage trucks to form a line that would stretch from the earth, halfway to the moon....'\n",
      "https://www.education.com/science-fair/article/reusing-your-trash/\n",
      "\n",
      "\n",
      "\n",
      "Design Challenge: Making a Catapult\n",
      "\n",
      "b'...Make sure to complete each step in the instructions so that your child can fully experience the design thinking process, which includes phases of brainstorming, prototyping...'\n",
      "https://www.education.com/activity/article/design-challenge-making-a-catapult/\n",
      "\n",
      "\n"
     ]
    }
   ],
   "source": [
    "for result in ec:\n",
    "    print(result['result_title'])\n",
    "    print(result['result_desc'])\n",
    "    print(result['result_href'])\n",
    "    print('\\n')"
   ]
  },
  {
   "cell_type": "code",
   "execution_count": null,
   "metadata": {},
   "outputs": [],
   "source": []
  }
 ],
 "metadata": {
  "kernelspec": {
   "display_name": "Python 3",
   "language": "python",
   "name": "python3"
  },
  "language_info": {
   "codemirror_mode": {
    "name": "ipython",
    "version": 3
   },
   "file_extension": ".py",
   "mimetype": "text/x-python",
   "name": "python",
   "nbconvert_exporter": "python",
   "pygments_lexer": "ipython3",
   "version": "3.7.1"
  }
 },
 "nbformat": 4,
 "nbformat_minor": 2
}
